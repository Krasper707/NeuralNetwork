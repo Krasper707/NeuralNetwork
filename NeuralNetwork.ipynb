{
 "cells": [
  {
   "cell_type": "code",
   "execution_count": 1,
   "id": "24e4543a-2981-4606-a91e-5ef738d5e1a3",
   "metadata": {},
   "outputs": [],
   "source": [
    "import numpy as np"
   ]
  },
  {
   "cell_type": "code",
   "execution_count": 2,
   "id": "938f549e-46d9-4f00-9f4a-17bb4872a9ba",
   "metadata": {},
   "outputs": [],
   "source": [
    "def sigmoid(x):\n",
    "    #Creates the sigmoid function\n",
    "    return 1/(1+np.exp(-x))\n",
    "class Neuron:\n",
    "    def __init__(self,weights,bias):\n",
    "        self.weights=weights\n",
    "        self.bias=bias\n",
    "    def feedforward(self,inputs):\n",
    "        total=np.dot(self.weights,inputs)+self.bias\n",
    "        return sigmoid(total)\n",
    "        "
   ]
  },
  {
   "cell_type": "code",
   "execution_count": 3,
   "id": "94ff6977-178e-46ba-a1eb-db66e7acb62a",
   "metadata": {},
   "outputs": [
    {
     "name": "stdout",
     "output_type": "stream",
     "text": [
      "0.9996646498695336\n"
     ]
    }
   ],
   "source": [
    "#Initialising Weights and bias\n",
    "weight=np.array([0,1])\n",
    "bias=5\n",
    "#Creating a Neuron\n",
    "n=Neuron(weight,bias)\n",
    "#Defining input values\n",
    "x=np.array([2,3])\n",
    "#Passing input through the neuron\n",
    "print(n.feedforward(x))"
   ]
  },
  {
   "cell_type": "code",
   "execution_count": 6,
   "id": "0a8f46ee-5386-42a3-98ac-d1b16b4df1e3",
   "metadata": {},
   "outputs": [],
   "source": [
    "#Creating a Neural Network\n",
    "class NeuralNetwork():\n",
    "    '''\n",
    "    The weights and bias of each neuron is the same, that is, weight=[0,1] and bias=0\n",
    "    '''\n",
    "    def __init__(self):\n",
    "        weights=np.array([0,1])\n",
    "        bias=0\n",
    "        self.h1=Neuron(weights,bias)\n",
    "        self.h2=Neuron(weights,bias)\n",
    "        self.o1=Neuron(weights,bias)\n",
    "    def forwardpass(self,x):\n",
    "        out_h1=self.h1.feedforward(x)\n",
    "        out_h2=self.h2.feedforward(x)\n",
    "        #Inputs of o1 are the outputs of h1 and h2\n",
    "        out_o1=self.o1.feedforward(np.array([out_h1,out_h2]))\n",
    "        return out_o1"
   ]
  },
  {
   "cell_type": "code",
   "execution_count": 7,
   "id": "645c28e8-34a4-4f6d-8c6a-1871cc1f58ac",
   "metadata": {},
   "outputs": [
    {
     "name": "stdout",
     "output_type": "stream",
     "text": [
      "0.7216325609518421\n"
     ]
    }
   ],
   "source": [
    "network=NeuralNetwork()\n",
    "x=np.array([2,3])\n",
    "print(network.forwardpass(x))"
   ]
  },
  {
   "cell_type": "code",
   "execution_count": null,
   "id": "9a73f972-e6b4-48a6-92c6-186c1592441a",
   "metadata": {},
   "outputs": [],
   "source": [
    "#TRAINING A NEURAL NETWORK"
   ]
  },
  {
   "cell_type": "code",
   "execution_count": 9,
   "id": "70204a24-39ba-47e6-b94f-b5e1c5f3e777",
   "metadata": {},
   "outputs": [],
   "source": [
    "#Defining Loss Function\n",
    "def MSE(y_true,y_pred):\n",
    "    return((y_pred-y_true)**2).mean()\n"
   ]
  },
  {
   "cell_type": "code",
   "execution_count": 10,
   "id": "684bf0e8-40aa-49d8-95db-601adb5af311",
   "metadata": {},
   "outputs": [
    {
     "name": "stdout",
     "output_type": "stream",
     "text": [
      "0.75\n"
     ]
    }
   ],
   "source": [
    "#Checking the working of Loss Function\n",
    "y_tr=np.array([0,1,1,0])\n",
    "y_pre=np.array([1,1,0,1])\n",
    "print(MSE(y_tr,y_pre))"
   ]
  },
  {
   "cell_type": "code",
   "execution_count": null,
   "id": "e0e005c4-ae99-48dd-b94e-501784701402",
   "metadata": {},
   "outputs": [],
   "source": [
    "def deriv_sigmoid(x):\n",
    "    fx=sigmoid(x)\n",
    "    return fx * (1-fx)"
   ]
  },
  {
   "cell_type": "code",
   "execution_count": null,
   "id": "b9b47bf6-202a-49b3-9ff0-16f9ca24f397",
   "metadata": {},
   "outputs": [],
   "source": [
    "'''\n",
    "def sigmoid(x):\n",
    "    #Creates the sigmoid function\n",
    "    return 1/(1+np.exp(-x))\n",
    "class Neuron:\n",
    "    def __init__(self,weights,bias):\n",
    "        self.weights=weights\n",
    "        self.bias=bias\n",
    "    def feedforward(self,inputs):\n",
    "        total=np.dot(self.weights,inputs)+self.bias\n",
    "        return sigmoid(total)\n",
    "        class NeuralNetwork():\n",
    "    \n",
    "    The weights and bias of each neuron is the same, that is, weight=[0,1] and bias=0\n",
    "    \n",
    "    def __init__(self):\n",
    "        weights=np.array([0,1])\n",
    "        bias=0\n",
    "        self.h1=Neuron(weights,bias)\n",
    "        self.h2=Neuron(weights,bias)\n",
    "        self.o1=Neuron(weights,bias)\n",
    "    def forwardpass(self,x):\n",
    "        out_h1=self.h1.feedforward(x)\n",
    "        out_h2=self.h2.feedforward(x)\n",
    "        #Inputs of o1 are the outputs of h1 and h2\n",
    "        out_o1=self.o1.feedforward(np.array([out_h1,out_h2]))\n",
    "        return out_o1\n",
    "def MSE(y_true,y_pred):\n",
    "    return((y_pred-y_true)**2).mean()\n",
    "def deriv_sigmoid(x):\n",
    "    fx=sigmoid(x)\n",
    "    return fx * (1-fx)\n",
    "\n",
    "'''"
   ]
  },
  {
   "cell_type": "code",
   "execution_count": 18,
   "id": "36db37e1-cc66-480f-b15a-4dfdda53b0e0",
   "metadata": {},
   "outputs": [],
   "source": [
    "#Creating a Neural network with more inputs\n",
    "def sigmoid(x):\n",
    "    return 1/(1+np.exp(-x))\n",
    "def deriv_sigmoid(x):\n",
    "    fx=sigmoid(x)\n",
    "    return fx * (1-fx)\n",
    "def mse_loss(y_true,y_pred):\n",
    "    return ((y_true-y_pred)**2).mean()\n",
    "class NeuralNetwork1():\n",
    "    '''\n",
    "    2 inputs\n",
    "    Has  hidden layer with 2 neurons, 1 output layer with 1 neuron\n",
    "    '''\n",
    "    def __init__(self):\n",
    "        #WEIGHTS\n",
    "        self.w1=np.random.normal()\n",
    "        self.w2=np.random.normal()\n",
    "        self.w3=np.random.normal()\n",
    "        self.w4=np.random.normal()\n",
    "        self.w5=np.random.normal()\n",
    "        self.w6=np.random.normal()\n",
    "\n",
    "        #BIAS\n",
    "        self.b1=np.random.normal()\n",
    "        self.b2=np.random.normal()\n",
    "        self.b3=np.random.normal()\n",
    "        \n",
    "    def feedforward(self,x):\n",
    "        #x is an input numpy array with 2 elements\n",
    "        h1=sigmoid(self.w1 * x[0] + self.w3 * x[1] +self.b1)\n",
    "        h2=sigmoid(self.w2 * x[0] + self.w4 * x[1] +self.b2)\n",
    "        o1=sigmoid(self.w5 * h1 + self.w6 * h2 +self.b3)\n",
    "        return o1\n",
    "    def train(self,data,all_y_true):\n",
    "        alpha=0.1 #Learning rate\n",
    "        epochs=100\n",
    "        for epoch in range(epochs):\n",
    "            for x,y_true in zip(data,all_y_true):\n",
    "                sum_h1 = self.w1 * x[0] + self.w2 * x[1] + self.b1\n",
    "                h1 = sigmoid(sum_h1)\n",
    "                sum_h2 = self.w3 * x[0] + self.w4 * x[1] + self.b2\n",
    "                h2 = sigmoid(sum_h2)\n",
    "                sum_o1 = self.w5 * h1 + self.w6 * h2 + self.b3\n",
    "                o1 = sigmoid(sum_o1)\n",
    "                y_pred = o1\n",
    "\n",
    "                # --- Calculate partial derivatives.\n",
    "                # --- Naming: d_L_d_w1 represents \"partial L / partial w1\"\n",
    "                d_L_d_ypred = -2 * (y_true - y_pred)\n",
    "\n",
    "                # Neuron o1\n",
    "                d_ypred_d_w5 = h1 * deriv_sigmoid(sum_o1)\n",
    "                d_ypred_d_w6 = h2 * deriv_sigmoid(sum_o1)\n",
    "                d_ypred_d_b3 = deriv_sigmoid(sum_o1)\n",
    "\n",
    "                d_ypred_d_h1 = self.w5 * deriv_sigmoid(sum_o1)\n",
    "                d_ypred_d_h2 = self.w6 * deriv_sigmoid(sum_o1)\n",
    "\n",
    "                    # Neuron h1\n",
    "                d_h1_d_w1 = x[0] * deriv_sigmoid(sum_h1)\n",
    "                d_h1_d_w2 = x[1] * deriv_sigmoid(sum_h1)\n",
    "                d_h1_d_b1 = deriv_sigmoid(sum_h1)\n",
    "\n",
    "                    # Neuron h2\n",
    "                d_h2_d_w3 = x[0] * deriv_sigmoid(sum_h2)\n",
    "                d_h2_d_w4 = x[1] * deriv_sigmoid(sum_h2)\n",
    "                d_h2_d_b2 = deriv_sigmoid(sum_h2)\n",
    "\n",
    "                    # --- Update weights and biases\n",
    "                    # Neuron h1\n",
    "                self.w1 -= alpha * d_L_d_ypred * d_ypred_d_h1 * d_h1_d_w1\n",
    "                self.w2 -= alpha * d_L_d_ypred * d_ypred_d_h1 * d_h1_d_w2\n",
    "                self.b1 -= alpha * d_L_d_ypred * d_ypred_d_h1 * d_h1_d_b1\n",
    "\n",
    "                    # Neuron h2\n",
    "                self.w3 -= alpha * d_L_d_ypred * d_ypred_d_h2 * d_h2_d_w3\n",
    "                self.w4 -= alpha * d_L_d_ypred * d_ypred_d_h2 * d_h2_d_w4\n",
    "                self.b2 -= alpha * d_L_d_ypred * d_ypred_d_h2 * d_h2_d_b2\n",
    "\n",
    "                    # Neuron o1\n",
    "                self.w5 -= alpha * d_L_d_ypred * d_ypred_d_w5\n",
    "                self.w6 -= alpha * d_L_d_ypred * d_ypred_d_w6\n",
    "                self.b3 -= alpha * d_L_d_ypred * d_ypred_d_b3\n",
    "\n",
    "                    # Calculate total loss at the end of each epoch\n",
    "                if epoch % 10 == 0:\n",
    "                    y_preds = np.apply_along_axis(self.feedforward, 1, data)\n",
    "                    loss = mse_loss(all_y_trues, y_preds)\n",
    "                    print(\"Epoch %d loss: %.3f\" % (epoch, loss))\n",
    "\n",
    "\n",
    "        \n",
    "\n",
    "\n",
    "        \n",
    "        "
   ]
  },
  {
   "cell_type": "code",
   "execution_count": 19,
   "id": "f98a1a77-f203-467b-8e3e-fbd5ca75d75b",
   "metadata": {},
   "outputs": [
    {
     "name": "stdout",
     "output_type": "stream",
     "text": [
      "Epoch 0 loss: 0.193\n",
      "Epoch 0 loss: 0.200\n",
      "Epoch 0 loss: 0.208\n",
      "Epoch 0 loss: 0.204\n",
      "Epoch 10 loss: 0.245\n",
      "Epoch 10 loss: 0.252\n",
      "Epoch 10 loss: 0.259\n",
      "Epoch 10 loss: 0.254\n",
      "Epoch 20 loss: 0.248\n",
      "Epoch 20 loss: 0.250\n",
      "Epoch 20 loss: 0.253\n",
      "Epoch 20 loss: 0.246\n",
      "Epoch 30 loss: 0.180\n",
      "Epoch 30 loss: 0.180\n",
      "Epoch 30 loss: 0.180\n",
      "Epoch 30 loss: 0.178\n",
      "Epoch 40 loss: 0.164\n",
      "Epoch 40 loss: 0.163\n",
      "Epoch 40 loss: 0.161\n",
      "Epoch 40 loss: 0.162\n",
      "Epoch 50 loss: 0.151\n",
      "Epoch 50 loss: 0.150\n",
      "Epoch 50 loss: 0.148\n",
      "Epoch 50 loss: 0.149\n",
      "Epoch 60 loss: 0.136\n",
      "Epoch 60 loss: 0.134\n",
      "Epoch 60 loss: 0.133\n",
      "Epoch 60 loss: 0.134\n",
      "Epoch 70 loss: 0.119\n",
      "Epoch 70 loss: 0.118\n",
      "Epoch 70 loss: 0.117\n",
      "Epoch 70 loss: 0.117\n",
      "Epoch 80 loss: 0.103\n",
      "Epoch 80 loss: 0.102\n",
      "Epoch 80 loss: 0.101\n",
      "Epoch 80 loss: 0.102\n",
      "Epoch 90 loss: 0.088\n",
      "Epoch 90 loss: 0.088\n",
      "Epoch 90 loss: 0.087\n",
      "Epoch 90 loss: 0.087\n"
     ]
    }
   ],
   "source": [
    "data = np.array([\n",
    "  [-2, -1],  #F\n",
    "  [25, 6], #M\n",
    "  [17, 4],   #M\n",
    "  [-15, -6], #F\n",
    "])\n",
    "all_y_trues = np.array([\n",
    "  1, # F\n",
    "  0, # M\n",
    "  0, # M\n",
    "  1, # F\n",
    "])\n",
    "\n",
    "# Train our neural network!\n",
    "network = NeuralNetwork1()\n",
    "network.train(data, all_y_trues)"
   ]
  },
  {
   "cell_type": "code",
   "execution_count": null,
   "id": "59ba1b32-3421-4001-ac7e-ad6523b1057e",
   "metadata": {},
   "outputs": [],
   "source": [
    "#The model seems to reduce its loss gradually by SGD."
   ]
  },
  {
   "cell_type": "code",
   "execution_count": null,
   "id": "b6e320dd-a80e-4afd-80d1-f35a35a9c977",
   "metadata": {},
   "outputs": [],
   "source": []
  }
 ],
 "metadata": {
  "kernelspec": {
   "display_name": "Python 3 (ipykernel)",
   "language": "python",
   "name": "python3"
  },
  "language_info": {
   "codemirror_mode": {
    "name": "ipython",
    "version": 3
   },
   "file_extension": ".py",
   "mimetype": "text/x-python",
   "name": "python",
   "nbconvert_exporter": "python",
   "pygments_lexer": "ipython3",
   "version": "3.11.4"
  }
 },
 "nbformat": 4,
 "nbformat_minor": 5
}
